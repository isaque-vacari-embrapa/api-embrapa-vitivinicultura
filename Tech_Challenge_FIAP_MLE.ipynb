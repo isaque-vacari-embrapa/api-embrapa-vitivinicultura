{
  "nbformat": 4,
  "nbformat_minor": 0,
  "metadata": {
    "colab": {
      "provenance": [],
      "include_colab_link": true
    },
    "kernelspec": {
      "name": "python3",
      "display_name": "Python 3"
    },
    "language_info": {
      "name": "python"
    }
  },
  "cells": [
    {
      "cell_type": "markdown",
      "metadata": {
        "id": "view-in-github",
        "colab_type": "text"
      },
      "source": [
        "<a href=\"https://colab.research.google.com/github/abatista346/APIVitivinicultura/blob/master/Tech_Challenge_FIAP_MLE.ipynb\" target=\"_parent\"><img src=\"https://colab.research.google.com/assets/colab-badge.svg\" alt=\"Open In Colab\"/></a>"
      ]
    },
    {
      "cell_type": "markdown",
      "source": [
        "# **📊Análise de Dados Descritiva Tech Challenge MLE FIAP**"
      ],
      "metadata": {
        "id": "WQmQ6OsBiupj"
      }
    },
    {
      "cell_type": "markdown",
      "source": [
        "# Importando as bibliotecas principais para a Análise"
      ],
      "metadata": {
        "id": "CHzsqB0WjE-0"
      }
    },
    {
      "cell_type": "code",
      "source": [
        "import requests\n",
        "import pandas as pd\n",
        "import matplotlib.pyplot as plt\n",
        "import seaborn as sns"
      ],
      "metadata": {
        "id": "xDCVoqrObG0p"
      },
      "execution_count": null,
      "outputs": []
    },
    {
      "cell_type": "markdown",
      "source": [
        "# Configurações para API e seus respectivos EndPoints"
      ],
      "metadata": {
        "id": "8RcMii6djK2n"
      }
    },
    {
      "cell_type": "code",
      "source": [
        "# Configurações\n",
        "BASE_URL = \"https://api-embrapa-vitivinicultura-181232612764.southamerica-east1.run.app\"\n",
        "\n",
        "# Insira suas credenciais\n",
        "USERNAME = \"fiap\"  # Substitua pelo seu nome de usuário\n",
        "PASSWORD = \"Fiap2025\"  # Substitua pela sua senha\n",
        "\n",
        "# Listando Endpoints de Consulta\n",
        "ENDPOINTS_COMERCIALIZACOES = [\n",
        "    \"comercializacoes?ano=2019\",\n",
        "    \"comercializacoes?ano=2020\",\n",
        "    \"comercializacoes?ano=2021\",\n",
        "    \"comercializacoes?ano=2022\",\n",
        "    \"comercializacoes?ano=2023\"\n",
        "]\n",
        "\n",
        "ENDPOINTS_PRODUCOES = [\n",
        "    \"producoes?ano=2019\",\n",
        "    \"producoes?ano=2020\",\n",
        "    \"producoes?ano=2021\",\n",
        "    \"producoes?ano=2022\",\n",
        "    \"producoes?ano=2023\"\n",
        "]"
      ],
      "metadata": {
        "id": "6ouBnNREbGx5"
      },
      "execution_count": null,
      "outputs": []
    },
    {
      "cell_type": "markdown",
      "source": [
        "Criando Funções que irão buscar o Token de autenticação, assim como acessar os EndPoints, com base em usuário e senha"
      ],
      "metadata": {
        "id": "w55T8Km1joYs"
      }
    },
    {
      "cell_type": "code",
      "source": [
        "# Função para obter um novo token JWT\n",
        "def login(username, password):\n",
        "    login_url = f\"{BASE_URL}/login\"  # endpoint de login seja /login\n",
        "    credentials = {\n",
        "        \"username\": username,\n",
        "        \"password\": password\n",
        "    }\n",
        "    response = requests.post(login_url, json=credentials)\n",
        "    if response.status_code == 200:\n",
        "        print(\"✅ Login bem-sucedido!\")\n",
        "        return response.json().get(\"access_token\")  # Assumindo que o token seja retornado em \"access_token\"\n",
        "    else:\n",
        "        print(f\"❌ Erro no login: {response.status_code}\")\n",
        "        return None\n",
        "\n",
        "  # Função para obter os dados dos endpoints\n",
        "def get_data(endpoint):\n",
        "    url = f\"{BASE_URL}/{endpoint}\"\n",
        "    response = requests.get(url, headers=headers)\n",
        "    if response.status_code == 200:\n",
        "        print(f\"✅ Sucesso: /{endpoint}\")\n",
        "        return pd.DataFrame(response.json())\n",
        "    else:\n",
        "        print(f\"❌ Erro {response.status_code} em /{endpoint}\")\n",
        "        return pd.DataFrame()"
      ],
      "metadata": {
        "id": "63L8Hw4LbGva"
      },
      "execution_count": null,
      "outputs": []
    },
    {
      "cell_type": "markdown",
      "source": [
        "Realizando Login com base nos usuário e senha informado\n",
        "\n"
      ],
      "metadata": {
        "id": "M9xFjcSRkDJQ"
      }
    },
    {
      "cell_type": "code",
      "source": [
        "# Obter o novo token\n",
        "new_token = login(USERNAME, PASSWORD)\n",
        "\n",
        "# Cabeçalho com o token JWT\n",
        "headers = {\n",
        "    \"Authorization\": f\"Bearer {new_token}\"\n",
        "}"
      ],
      "metadata": {
        "id": "vNKON0fNbGsV"
      },
      "execution_count": null,
      "outputs": []
    },
    {
      "cell_type": "markdown",
      "source": [
        "# Coleta de Dados"
      ],
      "metadata": {
        "id": "fpE29xKDkbLM"
      }
    },
    {
      "cell_type": "code",
      "source": [
        "# Coleta dos dados\n",
        "\n",
        "# Função para Endpoint de Comercializações\n",
        "dfs_comercializacoes = {}\n",
        "for ep in ENDPOINTS_COMERCIALIZACOES:\n",
        "    df_comercializacoes = get_data(ep)\n",
        "    if not df_comercializacoes.empty:\n",
        "        dfs_comercializacoes[ep] = df_comercializacoes\n",
        "print('-' * 40)\n",
        "# Função para Endpoint de Produções\n",
        "dfs_producoes = {}\n",
        "for ep in ENDPOINTS_PRODUCOES:\n",
        "    df_producoes = get_data(ep)\n",
        "    if not df_producoes.empty:\n",
        "        dfs_producoes[ep] = df_producoes"
      ],
      "metadata": {
        "colab": {
          "base_uri": "https://localhost:8080/"
        },
        "id": "Pty9UUAMfZwf",
        "outputId": "f818a87f-7491-4f79-f2b9-96648bccbdf6"
      },
      "execution_count": null,
      "outputs": [
        {
          "output_type": "stream",
          "name": "stdout",
          "text": [
            "✅ Sucesso: /comercializacoes?ano=2019\n",
            "✅ Sucesso: /comercializacoes?ano=2020\n",
            "✅ Sucesso: /comercializacoes?ano=2021\n",
            "✅ Sucesso: /comercializacoes?ano=2022\n",
            "✅ Sucesso: /comercializacoes?ano=2023\n",
            "----------------------------------------\n",
            "✅ Sucesso: /producoes?ano=2019\n",
            "✅ Sucesso: /producoes?ano=2020\n",
            "✅ Sucesso: /producoes?ano=2021\n",
            "✅ Sucesso: /producoes?ano=2022\n",
            "✅ Sucesso: /producoes?ano=2023\n"
          ]
        }
      ]
    },
    {
      "cell_type": "markdown",
      "source": [
        "Unificado todo o período dos DataSets Selecionado"
      ],
      "metadata": {
        "id": "W6yxp7AmkldQ"
      }
    },
    {
      "cell_type": "code",
      "source": [
        "# Unificado data sets\n",
        "\n",
        "# Data Set Comercializações\n",
        "df_comer = pd.concat(dfs_comercializacoes.values(), ignore_index=True)\n",
        "\n",
        "# Data Set Produções\n",
        "df_prod = pd.concat(dfs_producoes.values(), ignore_index=True)\n"
      ],
      "metadata": {
        "id": "kOsH6DuyblYI"
      },
      "execution_count": null,
      "outputs": []
    },
    {
      "cell_type": "markdown",
      "source": [
        "# Avaliando Dados, identificando informações disponíveis e Criando gráficos de Evolução Temporal"
      ],
      "metadata": {
        "id": "9ZiUSECskzTE"
      }
    },
    {
      "cell_type": "code",
      "source": [
        "# Primeiras 5 linhas do DataSet Comercialização\n",
        "df_comer.head()"
      ],
      "metadata": {
        "colab": {
          "base_uri": "https://localhost:8080/",
          "height": 206
        },
        "id": "LwKeedFvh-yi",
        "outputId": "0e6428b4-c779-4a6c-9361-4c8f361e1b9f"
      },
      "execution_count": null,
      "outputs": [
        {
          "output_type": "execute_result",
          "data": {
            "text/plain": [
              "    ano             produto  quantidade\n",
              "0  2019       VINHO DE MESA   180446489\n",
              "1  2019               Tinto   158519218\n",
              "2  2019              Rosado     1265435\n",
              "3  2019              Branco    20661836\n",
              "4  2019  VINHO FINO DE MESA    15684588"
            ],
            "text/html": [
              "\n",
              "  <div id=\"df-be2f1a92-fde4-4ca4-bc0a-811d1d80f5fc\" class=\"colab-df-container\">\n",
              "    <div>\n",
              "<style scoped>\n",
              "    .dataframe tbody tr th:only-of-type {\n",
              "        vertical-align: middle;\n",
              "    }\n",
              "\n",
              "    .dataframe tbody tr th {\n",
              "        vertical-align: top;\n",
              "    }\n",
              "\n",
              "    .dataframe thead th {\n",
              "        text-align: right;\n",
              "    }\n",
              "</style>\n",
              "<table border=\"1\" class=\"dataframe\">\n",
              "  <thead>\n",
              "    <tr style=\"text-align: right;\">\n",
              "      <th></th>\n",
              "      <th>ano</th>\n",
              "      <th>produto</th>\n",
              "      <th>quantidade</th>\n",
              "    </tr>\n",
              "  </thead>\n",
              "  <tbody>\n",
              "    <tr>\n",
              "      <th>0</th>\n",
              "      <td>2019</td>\n",
              "      <td>VINHO DE MESA</td>\n",
              "      <td>180446489</td>\n",
              "    </tr>\n",
              "    <tr>\n",
              "      <th>1</th>\n",
              "      <td>2019</td>\n",
              "      <td>Tinto</td>\n",
              "      <td>158519218</td>\n",
              "    </tr>\n",
              "    <tr>\n",
              "      <th>2</th>\n",
              "      <td>2019</td>\n",
              "      <td>Rosado</td>\n",
              "      <td>1265435</td>\n",
              "    </tr>\n",
              "    <tr>\n",
              "      <th>3</th>\n",
              "      <td>2019</td>\n",
              "      <td>Branco</td>\n",
              "      <td>20661836</td>\n",
              "    </tr>\n",
              "    <tr>\n",
              "      <th>4</th>\n",
              "      <td>2019</td>\n",
              "      <td>VINHO FINO DE MESA</td>\n",
              "      <td>15684588</td>\n",
              "    </tr>\n",
              "  </tbody>\n",
              "</table>\n",
              "</div>\n",
              "    <div class=\"colab-df-buttons\">\n",
              "\n",
              "  <div class=\"colab-df-container\">\n",
              "    <button class=\"colab-df-convert\" onclick=\"convertToInteractive('df-be2f1a92-fde4-4ca4-bc0a-811d1d80f5fc')\"\n",
              "            title=\"Convert this dataframe to an interactive table.\"\n",
              "            style=\"display:none;\">\n",
              "\n",
              "  <svg xmlns=\"http://www.w3.org/2000/svg\" height=\"24px\" viewBox=\"0 -960 960 960\">\n",
              "    <path d=\"M120-120v-720h720v720H120Zm60-500h600v-160H180v160Zm220 220h160v-160H400v160Zm0 220h160v-160H400v160ZM180-400h160v-160H180v160Zm440 0h160v-160H620v160ZM180-180h160v-160H180v160Zm440 0h160v-160H620v160Z\"/>\n",
              "  </svg>\n",
              "    </button>\n",
              "\n",
              "  <style>\n",
              "    .colab-df-container {\n",
              "      display:flex;\n",
              "      gap: 12px;\n",
              "    }\n",
              "\n",
              "    .colab-df-convert {\n",
              "      background-color: #E8F0FE;\n",
              "      border: none;\n",
              "      border-radius: 50%;\n",
              "      cursor: pointer;\n",
              "      display: none;\n",
              "      fill: #1967D2;\n",
              "      height: 32px;\n",
              "      padding: 0 0 0 0;\n",
              "      width: 32px;\n",
              "    }\n",
              "\n",
              "    .colab-df-convert:hover {\n",
              "      background-color: #E2EBFA;\n",
              "      box-shadow: 0px 1px 2px rgba(60, 64, 67, 0.3), 0px 1px 3px 1px rgba(60, 64, 67, 0.15);\n",
              "      fill: #174EA6;\n",
              "    }\n",
              "\n",
              "    .colab-df-buttons div {\n",
              "      margin-bottom: 4px;\n",
              "    }\n",
              "\n",
              "    [theme=dark] .colab-df-convert {\n",
              "      background-color: #3B4455;\n",
              "      fill: #D2E3FC;\n",
              "    }\n",
              "\n",
              "    [theme=dark] .colab-df-convert:hover {\n",
              "      background-color: #434B5C;\n",
              "      box-shadow: 0px 1px 3px 1px rgba(0, 0, 0, 0.15);\n",
              "      filter: drop-shadow(0px 1px 2px rgba(0, 0, 0, 0.3));\n",
              "      fill: #FFFFFF;\n",
              "    }\n",
              "  </style>\n",
              "\n",
              "    <script>\n",
              "      const buttonEl =\n",
              "        document.querySelector('#df-be2f1a92-fde4-4ca4-bc0a-811d1d80f5fc button.colab-df-convert');\n",
              "      buttonEl.style.display =\n",
              "        google.colab.kernel.accessAllowed ? 'block' : 'none';\n",
              "\n",
              "      async function convertToInteractive(key) {\n",
              "        const element = document.querySelector('#df-be2f1a92-fde4-4ca4-bc0a-811d1d80f5fc');\n",
              "        const dataTable =\n",
              "          await google.colab.kernel.invokeFunction('convertToInteractive',\n",
              "                                                    [key], {});\n",
              "        if (!dataTable) return;\n",
              "\n",
              "        const docLinkHtml = 'Like what you see? Visit the ' +\n",
              "          '<a target=\"_blank\" href=https://colab.research.google.com/notebooks/data_table.ipynb>data table notebook</a>'\n",
              "          + ' to learn more about interactive tables.';\n",
              "        element.innerHTML = '';\n",
              "        dataTable['output_type'] = 'display_data';\n",
              "        await google.colab.output.renderOutput(dataTable, element);\n",
              "        const docLink = document.createElement('div');\n",
              "        docLink.innerHTML = docLinkHtml;\n",
              "        element.appendChild(docLink);\n",
              "      }\n",
              "    </script>\n",
              "  </div>\n",
              "\n",
              "\n",
              "    <div id=\"df-06218f7a-6c1d-48f4-b8b6-5bda7464844d\">\n",
              "      <button class=\"colab-df-quickchart\" onclick=\"quickchart('df-06218f7a-6c1d-48f4-b8b6-5bda7464844d')\"\n",
              "                title=\"Suggest charts\"\n",
              "                style=\"display:none;\">\n",
              "\n",
              "<svg xmlns=\"http://www.w3.org/2000/svg\" height=\"24px\"viewBox=\"0 0 24 24\"\n",
              "     width=\"24px\">\n",
              "    <g>\n",
              "        <path d=\"M19 3H5c-1.1 0-2 .9-2 2v14c0 1.1.9 2 2 2h14c1.1 0 2-.9 2-2V5c0-1.1-.9-2-2-2zM9 17H7v-7h2v7zm4 0h-2V7h2v10zm4 0h-2v-4h2v4z\"/>\n",
              "    </g>\n",
              "</svg>\n",
              "      </button>\n",
              "\n",
              "<style>\n",
              "  .colab-df-quickchart {\n",
              "      --bg-color: #E8F0FE;\n",
              "      --fill-color: #1967D2;\n",
              "      --hover-bg-color: #E2EBFA;\n",
              "      --hover-fill-color: #174EA6;\n",
              "      --disabled-fill-color: #AAA;\n",
              "      --disabled-bg-color: #DDD;\n",
              "  }\n",
              "\n",
              "  [theme=dark] .colab-df-quickchart {\n",
              "      --bg-color: #3B4455;\n",
              "      --fill-color: #D2E3FC;\n",
              "      --hover-bg-color: #434B5C;\n",
              "      --hover-fill-color: #FFFFFF;\n",
              "      --disabled-bg-color: #3B4455;\n",
              "      --disabled-fill-color: #666;\n",
              "  }\n",
              "\n",
              "  .colab-df-quickchart {\n",
              "    background-color: var(--bg-color);\n",
              "    border: none;\n",
              "    border-radius: 50%;\n",
              "    cursor: pointer;\n",
              "    display: none;\n",
              "    fill: var(--fill-color);\n",
              "    height: 32px;\n",
              "    padding: 0;\n",
              "    width: 32px;\n",
              "  }\n",
              "\n",
              "  .colab-df-quickchart:hover {\n",
              "    background-color: var(--hover-bg-color);\n",
              "    box-shadow: 0 1px 2px rgba(60, 64, 67, 0.3), 0 1px 3px 1px rgba(60, 64, 67, 0.15);\n",
              "    fill: var(--button-hover-fill-color);\n",
              "  }\n",
              "\n",
              "  .colab-df-quickchart-complete:disabled,\n",
              "  .colab-df-quickchart-complete:disabled:hover {\n",
              "    background-color: var(--disabled-bg-color);\n",
              "    fill: var(--disabled-fill-color);\n",
              "    box-shadow: none;\n",
              "  }\n",
              "\n",
              "  .colab-df-spinner {\n",
              "    border: 2px solid var(--fill-color);\n",
              "    border-color: transparent;\n",
              "    border-bottom-color: var(--fill-color);\n",
              "    animation:\n",
              "      spin 1s steps(1) infinite;\n",
              "  }\n",
              "\n",
              "  @keyframes spin {\n",
              "    0% {\n",
              "      border-color: transparent;\n",
              "      border-bottom-color: var(--fill-color);\n",
              "      border-left-color: var(--fill-color);\n",
              "    }\n",
              "    20% {\n",
              "      border-color: transparent;\n",
              "      border-left-color: var(--fill-color);\n",
              "      border-top-color: var(--fill-color);\n",
              "    }\n",
              "    30% {\n",
              "      border-color: transparent;\n",
              "      border-left-color: var(--fill-color);\n",
              "      border-top-color: var(--fill-color);\n",
              "      border-right-color: var(--fill-color);\n",
              "    }\n",
              "    40% {\n",
              "      border-color: transparent;\n",
              "      border-right-color: var(--fill-color);\n",
              "      border-top-color: var(--fill-color);\n",
              "    }\n",
              "    60% {\n",
              "      border-color: transparent;\n",
              "      border-right-color: var(--fill-color);\n",
              "    }\n",
              "    80% {\n",
              "      border-color: transparent;\n",
              "      border-right-color: var(--fill-color);\n",
              "      border-bottom-color: var(--fill-color);\n",
              "    }\n",
              "    90% {\n",
              "      border-color: transparent;\n",
              "      border-bottom-color: var(--fill-color);\n",
              "    }\n",
              "  }\n",
              "</style>\n",
              "\n",
              "      <script>\n",
              "        async function quickchart(key) {\n",
              "          const quickchartButtonEl =\n",
              "            document.querySelector('#' + key + ' button');\n",
              "          quickchartButtonEl.disabled = true;  // To prevent multiple clicks.\n",
              "          quickchartButtonEl.classList.add('colab-df-spinner');\n",
              "          try {\n",
              "            const charts = await google.colab.kernel.invokeFunction(\n",
              "                'suggestCharts', [key], {});\n",
              "          } catch (error) {\n",
              "            console.error('Error during call to suggestCharts:', error);\n",
              "          }\n",
              "          quickchartButtonEl.classList.remove('colab-df-spinner');\n",
              "          quickchartButtonEl.classList.add('colab-df-quickchart-complete');\n",
              "        }\n",
              "        (() => {\n",
              "          let quickchartButtonEl =\n",
              "            document.querySelector('#df-06218f7a-6c1d-48f4-b8b6-5bda7464844d button');\n",
              "          quickchartButtonEl.style.display =\n",
              "            google.colab.kernel.accessAllowed ? 'block' : 'none';\n",
              "        })();\n",
              "      </script>\n",
              "    </div>\n",
              "\n",
              "    </div>\n",
              "  </div>\n"
            ],
            "application/vnd.google.colaboratory.intrinsic+json": {
              "type": "dataframe",
              "variable_name": "df_comer",
              "summary": "{\n  \"name\": \"df_comer\",\n  \"rows\": 315,\n  \"fields\": [\n    {\n      \"column\": \"ano\",\n      \"properties\": {\n        \"dtype\": \"number\",\n        \"std\": 1,\n        \"min\": 2019,\n        \"max\": 2023,\n        \"num_unique_values\": 5,\n        \"samples\": [\n          2020,\n          2023,\n          2021\n        ],\n        \"semantic_type\": \"\",\n        \"description\": \"\"\n      }\n    },\n    {\n      \"column\": \"produto\",\n      \"properties\": {\n        \"dtype\": \"category\",\n        \"num_unique_values\": 57,\n        \"samples\": [\n          \"VINHO DE MESA\",\n          \"VINHO FRIZANTE\",\n          \"Borra seca\"\n        ],\n        \"semantic_type\": \"\",\n        \"description\": \"\"\n      }\n    },\n    {\n      \"column\": \"quantidade\",\n      \"properties\": {\n        \"dtype\": \"number\",\n        \"std\": 68551378,\n        \"min\": 0,\n        \"max\": 473193021,\n        \"num_unique_values\": 262,\n        \"samples\": [\n          7459271,\n          1214583,\n          1579638\n        ],\n        \"semantic_type\": \"\",\n        \"description\": \"\"\n      }\n    }\n  ]\n}"
            }
          },
          "metadata": {},
          "execution_count": 48
        }
      ]
    },
    {
      "cell_type": "code",
      "source": [
        "print(\"Colunas:\", df_comer.columns.tolist())"
      ],
      "metadata": {
        "colab": {
          "base_uri": "https://localhost:8080/"
        },
        "id": "HSfmrAX0iq1J",
        "outputId": "47dce44f-172c-4bf2-909f-36c46a3ab2a6"
      },
      "execution_count": null,
      "outputs": [
        {
          "output_type": "stream",
          "name": "stdout",
          "text": [
            "Colunas: ['ano', 'produto', 'quantidade']\n"
          ]
        }
      ]
    },
    {
      "cell_type": "code",
      "source": [
        "# Tido de dados  do DataSet Comercialização\n",
        "print(df_comer.describe(include='all'))"
      ],
      "metadata": {
        "colab": {
          "base_uri": "https://localhost:8080/"
        },
        "id": "dlf1HOBSgyEo",
        "outputId": "2f6c5d67-8614-4ebb-b5b7-00feb9bf93a1"
      },
      "execution_count": null,
      "outputs": [
        {
          "output_type": "stream",
          "name": "stdout",
          "text": [
            "                ano produto    quantidade\n",
            "count    315.000000     315  3.150000e+02\n",
            "unique          NaN      57           NaN\n",
            "top             NaN   Tinto           NaN\n",
            "freq            NaN      15           NaN\n",
            "mean    2021.000000     NaN  2.139507e+07\n",
            "std        1.416464     NaN  6.855138e+07\n",
            "min     2019.000000     NaN  0.000000e+00\n",
            "25%     2020.000000     NaN  3.159500e+03\n",
            "50%     2021.000000     NaN  3.389260e+05\n",
            "75%     2022.000000     NaN  5.893218e+06\n",
            "max     2023.000000     NaN  4.731930e+08\n"
          ]
        }
      ]
    },
    {
      "cell_type": "code",
      "source": [
        "# Primeiras 5 linhas do DataSet Produção\n",
        "df_prod.head()"
      ],
      "metadata": {
        "colab": {
          "base_uri": "https://localhost:8080/",
          "height": 206
        },
        "id": "odJ8Pt4dgx9R",
        "outputId": "e0552ff6-d764-4916-d401-9fbcc8633939"
      },
      "execution_count": null,
      "outputs": [
        {
          "output_type": "execute_result",
          "data": {
            "text/plain": [
              "    ano                        produto  quantidade\n",
              "0  2019                  VINHO DE MESA   144629737\n",
              "1  2019                          Tinto   121045115\n",
              "2  2019                         Branco    22032828\n",
              "3  2019                         Rosado     1551794\n",
              "4  2019  VINHO FINO DE MESA (VINIFERA)    37615422"
            ],
            "text/html": [
              "\n",
              "  <div id=\"df-17138b0f-e399-4335-b1c6-67182af996a7\" class=\"colab-df-container\">\n",
              "    <div>\n",
              "<style scoped>\n",
              "    .dataframe tbody tr th:only-of-type {\n",
              "        vertical-align: middle;\n",
              "    }\n",
              "\n",
              "    .dataframe tbody tr th {\n",
              "        vertical-align: top;\n",
              "    }\n",
              "\n",
              "    .dataframe thead th {\n",
              "        text-align: right;\n",
              "    }\n",
              "</style>\n",
              "<table border=\"1\" class=\"dataframe\">\n",
              "  <thead>\n",
              "    <tr style=\"text-align: right;\">\n",
              "      <th></th>\n",
              "      <th>ano</th>\n",
              "      <th>produto</th>\n",
              "      <th>quantidade</th>\n",
              "    </tr>\n",
              "  </thead>\n",
              "  <tbody>\n",
              "    <tr>\n",
              "      <th>0</th>\n",
              "      <td>2019</td>\n",
              "      <td>VINHO DE MESA</td>\n",
              "      <td>144629737</td>\n",
              "    </tr>\n",
              "    <tr>\n",
              "      <th>1</th>\n",
              "      <td>2019</td>\n",
              "      <td>Tinto</td>\n",
              "      <td>121045115</td>\n",
              "    </tr>\n",
              "    <tr>\n",
              "      <th>2</th>\n",
              "      <td>2019</td>\n",
              "      <td>Branco</td>\n",
              "      <td>22032828</td>\n",
              "    </tr>\n",
              "    <tr>\n",
              "      <th>3</th>\n",
              "      <td>2019</td>\n",
              "      <td>Rosado</td>\n",
              "      <td>1551794</td>\n",
              "    </tr>\n",
              "    <tr>\n",
              "      <th>4</th>\n",
              "      <td>2019</td>\n",
              "      <td>VINHO FINO DE MESA (VINIFERA)</td>\n",
              "      <td>37615422</td>\n",
              "    </tr>\n",
              "  </tbody>\n",
              "</table>\n",
              "</div>\n",
              "    <div class=\"colab-df-buttons\">\n",
              "\n",
              "  <div class=\"colab-df-container\">\n",
              "    <button class=\"colab-df-convert\" onclick=\"convertToInteractive('df-17138b0f-e399-4335-b1c6-67182af996a7')\"\n",
              "            title=\"Convert this dataframe to an interactive table.\"\n",
              "            style=\"display:none;\">\n",
              "\n",
              "  <svg xmlns=\"http://www.w3.org/2000/svg\" height=\"24px\" viewBox=\"0 -960 960 960\">\n",
              "    <path d=\"M120-120v-720h720v720H120Zm60-500h600v-160H180v160Zm220 220h160v-160H400v160Zm0 220h160v-160H400v160ZM180-400h160v-160H180v160Zm440 0h160v-160H620v160ZM180-180h160v-160H180v160Zm440 0h160v-160H620v160Z\"/>\n",
              "  </svg>\n",
              "    </button>\n",
              "\n",
              "  <style>\n",
              "    .colab-df-container {\n",
              "      display:flex;\n",
              "      gap: 12px;\n",
              "    }\n",
              "\n",
              "    .colab-df-convert {\n",
              "      background-color: #E8F0FE;\n",
              "      border: none;\n",
              "      border-radius: 50%;\n",
              "      cursor: pointer;\n",
              "      display: none;\n",
              "      fill: #1967D2;\n",
              "      height: 32px;\n",
              "      padding: 0 0 0 0;\n",
              "      width: 32px;\n",
              "    }\n",
              "\n",
              "    .colab-df-convert:hover {\n",
              "      background-color: #E2EBFA;\n",
              "      box-shadow: 0px 1px 2px rgba(60, 64, 67, 0.3), 0px 1px 3px 1px rgba(60, 64, 67, 0.15);\n",
              "      fill: #174EA6;\n",
              "    }\n",
              "\n",
              "    .colab-df-buttons div {\n",
              "      margin-bottom: 4px;\n",
              "    }\n",
              "\n",
              "    [theme=dark] .colab-df-convert {\n",
              "      background-color: #3B4455;\n",
              "      fill: #D2E3FC;\n",
              "    }\n",
              "\n",
              "    [theme=dark] .colab-df-convert:hover {\n",
              "      background-color: #434B5C;\n",
              "      box-shadow: 0px 1px 3px 1px rgba(0, 0, 0, 0.15);\n",
              "      filter: drop-shadow(0px 1px 2px rgba(0, 0, 0, 0.3));\n",
              "      fill: #FFFFFF;\n",
              "    }\n",
              "  </style>\n",
              "\n",
              "    <script>\n",
              "      const buttonEl =\n",
              "        document.querySelector('#df-17138b0f-e399-4335-b1c6-67182af996a7 button.colab-df-convert');\n",
              "      buttonEl.style.display =\n",
              "        google.colab.kernel.accessAllowed ? 'block' : 'none';\n",
              "\n",
              "      async function convertToInteractive(key) {\n",
              "        const element = document.querySelector('#df-17138b0f-e399-4335-b1c6-67182af996a7');\n",
              "        const dataTable =\n",
              "          await google.colab.kernel.invokeFunction('convertToInteractive',\n",
              "                                                    [key], {});\n",
              "        if (!dataTable) return;\n",
              "\n",
              "        const docLinkHtml = 'Like what you see? Visit the ' +\n",
              "          '<a target=\"_blank\" href=https://colab.research.google.com/notebooks/data_table.ipynb>data table notebook</a>'\n",
              "          + ' to learn more about interactive tables.';\n",
              "        element.innerHTML = '';\n",
              "        dataTable['output_type'] = 'display_data';\n",
              "        await google.colab.output.renderOutput(dataTable, element);\n",
              "        const docLink = document.createElement('div');\n",
              "        docLink.innerHTML = docLinkHtml;\n",
              "        element.appendChild(docLink);\n",
              "      }\n",
              "    </script>\n",
              "  </div>\n",
              "\n",
              "\n",
              "    <div id=\"df-79842ea4-0a3a-43e9-b61f-28720ee17a65\">\n",
              "      <button class=\"colab-df-quickchart\" onclick=\"quickchart('df-79842ea4-0a3a-43e9-b61f-28720ee17a65')\"\n",
              "                title=\"Suggest charts\"\n",
              "                style=\"display:none;\">\n",
              "\n",
              "<svg xmlns=\"http://www.w3.org/2000/svg\" height=\"24px\"viewBox=\"0 0 24 24\"\n",
              "     width=\"24px\">\n",
              "    <g>\n",
              "        <path d=\"M19 3H5c-1.1 0-2 .9-2 2v14c0 1.1.9 2 2 2h14c1.1 0 2-.9 2-2V5c0-1.1-.9-2-2-2zM9 17H7v-7h2v7zm4 0h-2V7h2v10zm4 0h-2v-4h2v4z\"/>\n",
              "    </g>\n",
              "</svg>\n",
              "      </button>\n",
              "\n",
              "<style>\n",
              "  .colab-df-quickchart {\n",
              "      --bg-color: #E8F0FE;\n",
              "      --fill-color: #1967D2;\n",
              "      --hover-bg-color: #E2EBFA;\n",
              "      --hover-fill-color: #174EA6;\n",
              "      --disabled-fill-color: #AAA;\n",
              "      --disabled-bg-color: #DDD;\n",
              "  }\n",
              "\n",
              "  [theme=dark] .colab-df-quickchart {\n",
              "      --bg-color: #3B4455;\n",
              "      --fill-color: #D2E3FC;\n",
              "      --hover-bg-color: #434B5C;\n",
              "      --hover-fill-color: #FFFFFF;\n",
              "      --disabled-bg-color: #3B4455;\n",
              "      --disabled-fill-color: #666;\n",
              "  }\n",
              "\n",
              "  .colab-df-quickchart {\n",
              "    background-color: var(--bg-color);\n",
              "    border: none;\n",
              "    border-radius: 50%;\n",
              "    cursor: pointer;\n",
              "    display: none;\n",
              "    fill: var(--fill-color);\n",
              "    height: 32px;\n",
              "    padding: 0;\n",
              "    width: 32px;\n",
              "  }\n",
              "\n",
              "  .colab-df-quickchart:hover {\n",
              "    background-color: var(--hover-bg-color);\n",
              "    box-shadow: 0 1px 2px rgba(60, 64, 67, 0.3), 0 1px 3px 1px rgba(60, 64, 67, 0.15);\n",
              "    fill: var(--button-hover-fill-color);\n",
              "  }\n",
              "\n",
              "  .colab-df-quickchart-complete:disabled,\n",
              "  .colab-df-quickchart-complete:disabled:hover {\n",
              "    background-color: var(--disabled-bg-color);\n",
              "    fill: var(--disabled-fill-color);\n",
              "    box-shadow: none;\n",
              "  }\n",
              "\n",
              "  .colab-df-spinner {\n",
              "    border: 2px solid var(--fill-color);\n",
              "    border-color: transparent;\n",
              "    border-bottom-color: var(--fill-color);\n",
              "    animation:\n",
              "      spin 1s steps(1) infinite;\n",
              "  }\n",
              "\n",
              "  @keyframes spin {\n",
              "    0% {\n",
              "      border-color: transparent;\n",
              "      border-bottom-color: var(--fill-color);\n",
              "      border-left-color: var(--fill-color);\n",
              "    }\n",
              "    20% {\n",
              "      border-color: transparent;\n",
              "      border-left-color: var(--fill-color);\n",
              "      border-top-color: var(--fill-color);\n",
              "    }\n",
              "    30% {\n",
              "      border-color: transparent;\n",
              "      border-left-color: var(--fill-color);\n",
              "      border-top-color: var(--fill-color);\n",
              "      border-right-color: var(--fill-color);\n",
              "    }\n",
              "    40% {\n",
              "      border-color: transparent;\n",
              "      border-right-color: var(--fill-color);\n",
              "      border-top-color: var(--fill-color);\n",
              "    }\n",
              "    60% {\n",
              "      border-color: transparent;\n",
              "      border-right-color: var(--fill-color);\n",
              "    }\n",
              "    80% {\n",
              "      border-color: transparent;\n",
              "      border-right-color: var(--fill-color);\n",
              "      border-bottom-color: var(--fill-color);\n",
              "    }\n",
              "    90% {\n",
              "      border-color: transparent;\n",
              "      border-bottom-color: var(--fill-color);\n",
              "    }\n",
              "  }\n",
              "</style>\n",
              "\n",
              "      <script>\n",
              "        async function quickchart(key) {\n",
              "          const quickchartButtonEl =\n",
              "            document.querySelector('#' + key + ' button');\n",
              "          quickchartButtonEl.disabled = true;  // To prevent multiple clicks.\n",
              "          quickchartButtonEl.classList.add('colab-df-spinner');\n",
              "          try {\n",
              "            const charts = await google.colab.kernel.invokeFunction(\n",
              "                'suggestCharts', [key], {});\n",
              "          } catch (error) {\n",
              "            console.error('Error during call to suggestCharts:', error);\n",
              "          }\n",
              "          quickchartButtonEl.classList.remove('colab-df-spinner');\n",
              "          quickchartButtonEl.classList.add('colab-df-quickchart-complete');\n",
              "        }\n",
              "        (() => {\n",
              "          let quickchartButtonEl =\n",
              "            document.querySelector('#df-79842ea4-0a3a-43e9-b61f-28720ee17a65 button');\n",
              "          quickchartButtonEl.style.display =\n",
              "            google.colab.kernel.accessAllowed ? 'block' : 'none';\n",
              "        })();\n",
              "      </script>\n",
              "    </div>\n",
              "\n",
              "    </div>\n",
              "  </div>\n"
            ],
            "application/vnd.google.colaboratory.intrinsic+json": {
              "type": "dataframe",
              "variable_name": "df_prod",
              "summary": "{\n  \"name\": \"df_prod\",\n  \"rows\": 260,\n  \"fields\": [\n    {\n      \"column\": \"ano\",\n      \"properties\": {\n        \"dtype\": \"number\",\n        \"std\": 1,\n        \"min\": 2019,\n        \"max\": 2023,\n        \"num_unique_values\": 5,\n        \"samples\": [\n          2020,\n          2023,\n          2021\n        ],\n        \"semantic_type\": \"\",\n        \"description\": \"\"\n      }\n    },\n    {\n      \"column\": \"produto\",\n      \"properties\": {\n        \"dtype\": \"category\",\n        \"num_unique_values\": 49,\n        \"samples\": [\n          \"Espumante moscatel\",\n          \"Vinho acidificado\",\n          \"Outros derivados\"\n        ],\n        \"semantic_type\": \"\",\n        \"description\": \"\"\n      }\n    },\n    {\n      \"column\": \"quantidade\",\n      \"properties\": {\n        \"dtype\": \"number\",\n        \"std\": 69206289,\n        \"min\": 0,\n        \"max\": 487338750,\n        \"num_unique_values\": 169,\n        \"samples\": [\n          46268556,\n          901431,\n          138501226\n        ],\n        \"semantic_type\": \"\",\n        \"description\": \"\"\n      }\n    }\n  ]\n}"
            }
          },
          "metadata": {},
          "execution_count": 36
        }
      ]
    },
    {
      "cell_type": "code",
      "source": [
        "# Tido de dados  do DataSet Produção\n",
        "print(df_prod.describe(include='all'))"
      ],
      "metadata": {
        "colab": {
          "base_uri": "https://localhost:8080/"
        },
        "id": "0SeV3GJaiF7e",
        "outputId": "78e363f6-67a8-47e2-b0a7-8ad2251ca967"
      },
      "execution_count": null,
      "outputs": [
        {
          "output_type": "stream",
          "name": "stdout",
          "text": [
            "                ano produto    quantidade\n",
            "count    260.000000     260  2.600000e+02\n",
            "unique          NaN      49           NaN\n",
            "top             NaN   Tinto           NaN\n",
            "freq            NaN      10           NaN\n",
            "mean    2021.000000     NaN  2.438581e+07\n",
            "std        1.416941     NaN  6.920629e+07\n",
            "min     2019.000000     NaN  0.000000e+00\n",
            "25%     2020.000000     NaN  0.000000e+00\n",
            "50%     2021.000000     NaN  3.245900e+04\n",
            "75%     2022.000000     NaN  4.413604e+06\n",
            "max     2023.000000     NaN  4.873388e+08\n"
          ]
        }
      ]
    },
    {
      "cell_type": "markdown",
      "source": [
        "Gerando visualização de Análise de Evolução Temporal"
      ],
      "metadata": {
        "id": "yG80s1f-lAVy"
      }
    },
    {
      "cell_type": "code",
      "execution_count": null,
      "metadata": {
        "colab": {
          "base_uri": "https://localhost:8080/",
          "height": 564
        },
        "id": "8UgAyYuJVsRP",
        "outputId": "98d770f3-85b5-45ed-c9e6-d35170ce25a8"
      },
      "outputs": [
        {
          "output_type": "display_data",
          "data": {
            "text/plain": [
              "<Figure size 1200x600 with 1 Axes>"
            ],
            "image/png": "[encoded data removed]"
          },
          "metadata": {}
        }
      ],
      "source": [
        "plt.figure(figsize=(12, 6))\n",
        "sns.lineplot(data=df_comer, x='ano', y='quantidade')\n",
        "\n",
        "# Calcular e adicionar linha média\n",
        "media_quantidade = df_comer['quantidade'].mean()\n",
        "plt.axhline(media_quantidade, color='red', linestyle='--', label=f'Média: {media_quantidade:,.2f}')\n",
        "plt.legend()\n",
        "\n",
        "plt.title('Evolução Anual da Quantidade por Produto')\n",
        "plt.xlabel('Ano')\n",
        "plt.ylabel('Quantidade')\n",
        "plt.grid(False)\n",
        "plt.show()"
      ]
    },
    {
      "cell_type": "code",
      "metadata": {
        "colab": {
          "base_uri": "https://localhost:8080/",
          "height": 564
        },
        "id": "333df6c5",
        "outputId": "94022d77-56de-483d-de8a-542ab483210e"
      },
      "source": [
        "plt.figure(figsize=(12, 6))\n",
        "sns.lineplot(data=df_prod, x='ano', y='quantidade')\n",
        "\n",
        "# Calcular e adicionar linha média\n",
        "media_quantidade = df_prod['quantidade'].mean()\n",
        "plt.axhline(media_quantidade, color='red', linestyle='--', label=f'Média: {media_quantidade:,.2f}')\n",
        "plt.legend()\n",
        "\n",
        "plt.title('Evolução Anual da Quantidade por Produto')\n",
        "plt.xlabel('Ano')\n",
        "plt.ylabel('Quantidade')\n",
        "plt.grid(False)\n",
        "plt.show()"
      ],
      "execution_count": null,
      "outputs": [
        {
          "output_type": "display_data",
          "data": {
            "text/plain": [
              "<Figure size 1200x600 with 1 Axes>"
            ],
            "image/png": "[encoded data removed]"
          },
          "metadata": {}
        }
      ]
    }
  ]
}